{
 "cells": [
  {
   "cell_type": "markdown",
   "metadata": {
    "id": "DsOVIBf1LCST"
   },
   "source": [
    "# Метод штрафов. ADMM."
   ]
  },
  {
   "cell_type": "markdown",
   "metadata": {
    "id": "9SrRbuH-LCSX",
    "jp-MarkdownHeadingCollapsed": true
   },
   "source": [
    "## Вступление\n",
    "\n",
    "Ранее мы частенько работали с ERM на основе логистической регрессии, однако, в данной домашней работе к рассмотрению будет предложена функция, лежащая в основне SVM (чисто ради разнообразия). Ставится следующая задача оптимизации:\n",
    "$$\n",
    "\\begin{equation}\n",
    "\\min \\limits_{w \\in \\mathbb{R}^d} \\frac{1}{2} \\| w \\|^2 + C \\sum \\limits_{i = 1}^n \\max \\left(1 - y_i \\cdot \\langle X_i, w \\rangle , 0 \\right).\n",
    "\\end{equation}\n",
    "$$\n",
    "Член с суммой есть ни что иное, как *hinge_loss*, довольно популярная функция потерь при обучении классификаторов."
   ]
  },
  {
   "cell_type": "markdown",
   "metadata": {
    "id": "8-PTsVT8LCSY"
   },
   "source": [
    "## Основная часть (10 баллов)\n",
    "## Все нижеизложенные решения неправильные, и я не знаю, как правильно, и..."
   ]
  },
  {
   "cell_type": "markdown",
   "metadata": {
    "id": "7Ow20-38LCSY"
   },
   "source": [
    "__a) (1 балл)__ Переформулируйте задачу (1) в задачу оптимизации с ограничениями. *Подсказка*: попробуйте представить слагаемое в сумме как $s_i = (Bw)_i + e_i$, где $B \\in \\mathbb{R}^{n \\times d}$ -- некоторая матрица, а $e \\in \\mathbb{R}^n$ -- вектор, составленный из единиц. Для удобства обозначений также замените суммирование на функцию\n",
    "$$\n",
    "p(s) = \\sum \\limits_{i = 1}^n \\max(s_i, 0).\n",
    "$$"
   ]
  },
  {
   "cell_type": "markdown",
   "metadata": {
    "id": "yY_BhQiYLCSZ"
   },
   "source": [
    "__Ваше решение (Markdown)__\n",
    "\n",
    "Примечание: вроде как достаточно объявить $p(s) = \\sum \\limits_{i = 1}^n s_i$, т.к. ограничения учтут максимум\n",
    "\n",
    "Если осуществить предложенную замену $s_i = (Bw)_i + e_i$, а матрицу $B$ выбрать как $B = - Y X$, где $Y$ - диагональная матрица с элементами $y$, то задача примет вид\n",
    "\n",
    "$$\n",
    "\\min \\limits_{w \\in \\mathbb{R}^d, s \\in \\mathbb{R}^n} \\frac{1}{2} \\| w \\|^2 + C p(s),\n",
    "$$\n",
    "\n",
    "а ограничения будут следующими:\n",
    "\n",
    "$$\n",
    "s \\geq B w + e.\n",
    "$$"
   ]
  },
  {
   "cell_type": "markdown",
   "metadata": {
    "id": "pAPC9W71LCSa"
   },
   "source": [
    "__б) (1.5 балла)__ Для полученной задачи оптимизации с ограничениями напишите функцию Лагранжа $L(w, s, \\lambda)$. В качестве ограничений можно взять функцию $s$."
   ]
  },
  {
   "cell_type": "markdown",
   "metadata": {
    "id": "yc9M83JILCSb"
   },
   "source": [
    "__Ваше решение (Markdown)__\n",
    "\n",
    "$$ L(w, s, \\lambda) = \\frac{1}{2} \\| w \\|^2 + C p(s) - \\sum \\limits_{i = 1}^n \\lambda_i (s_i - (B w)_i - e_i) = $$\n",
    "$$ = \\frac{1}{2} \\| w \\|^2 + \\sum \\limits_{i = 1}^n (C - \\lambda_i) s_i + \\lambda^T B w + \\lambda^T e$$"
   ]
  },
  {
   "cell_type": "markdown",
   "metadata": {
    "id": "m-Casj6tLCSb"
   },
   "source": [
    "__в) (0.5 балл)__ Запишите расширенный Лагранжиан задачи $L_{\\rho}(w, s, \\lambda)$, введя параметр $\\rho$."
   ]
  },
  {
   "cell_type": "markdown",
   "metadata": {
    "id": "VPlnPEzlLCSb"
   },
   "source": [
    "__Ваше решение (Markdown)__\n",
    "\n",
    "$$ L_{\\rho}(w, s, \\lambda) = L(w, s, \\lambda) + \\frac{\\rho}{2} \\| s - B w - e\\|^2 = $$\n",
    "$$ = \\frac{1}{2} \\| w \\|^2 + \\sum \\limits_{i = 1}^n (C - \\lambda_i) s_i + \\lambda^T B w + \\lambda^T e + \\frac{\\rho}{2} \\| s - B w - e\\|^2$$"
   ]
  },
  {
   "cell_type": "markdown",
   "metadata": {
    "id": "tgnuXYqrLCSc"
   },
   "source": [
    "__г) (2 балла)__ Как вы помните из лекции, на шаге алгоритма ADMM мы решаем задачу минимизации расширенного Лагранжиана по параметру $s$:\n",
    "$$\n",
    "\\varphi (w) = \\min \\limits_{s} L_{\\rho} (w, s, \\lambda).\n",
    "$$\n",
    "Переформулируйте задача минимизации так, чтобы члены с $w$ и $\\lambda$ были вытащены из под $\\min$. То есть вид должен быть такой:\n",
    "$$\n",
    "\\varphi (w) = c_1 \\|w\\|^2 + c_2 \\| \\lambda\\|^2 + c_3 \\min \\limits_{s} \\left[\\|s - t(w)\\|^2 + c_4 p(s) \\right].\n",
    "$$\n",
    "Здесь $t(w)$ -- функция, которая зависит только от переменной $w$."
   ]
  },
  {
   "cell_type": "markdown",
   "metadata": {
    "id": "XNh77cfGLCSc"
   },
   "source": [
    "__Ваше решение (Markdown)__\n",
    "\n",
    "Взяв производную по $s_i$, получим условие минимума:\n",
    "\n",
    "$$ C - \\lambda_i + \\rho (s_i - (B w)_i - e_i) = 0 =>$$\n",
    "$$ s_i = (B w)_i + e_i - \\frac{1}{\\rho} (C - \\lambda_i)$$\n",
    "\n",
    "Теперь подставим это в Лагранжиан...\n",
    "\n",
    "$$ L_{\\rho} (w, s, \\lambda) = \\frac{1}{2} \\| w \\|^2 + \\sum \\limits_{i = 1}^n (C - \\lambda_i) (B w + e)_i - \\frac{1}{\\rho} \\sum \\limits_{i = 1}^n (C - \\lambda_i)^2 + \\lambda^T (B w + e) + \\frac{1}{2 \\rho} \\sum \\limits_{i = 1}^n (C - \\lambda_i)^2 =$$\n",
    "$$ = \\frac{1}{2} \\| w \\|^2 + \\sum \\limits_{i = 1}^n C (B w + e)_i - \\frac{1}{2 \\rho} \\sum \\limits_{i = 1}^n (C - \\lambda_i)^2 = $$\n",
    "$$ = \\frac{1}{2} \\| w \\|^2 + \\sum \\limits_{i = 1}^n C (B w + e)_i - \\frac{1}{2 \\rho} \\sum \\limits_{i = 1}^n (C^2 - 2 C \\lambda_i + \\lambda_i^2) = $$\n",
    "$$ = \\frac{1}{2} \\| w \\|^2 - \\frac{1}{2 \\rho} \\| \\lambda \\|^2 + C \\sum \\limits_{i = 1}^n \\left( (B w + e)_i - \\frac{1}{2 \\rho} (C - 2 \\lambda_i) \\right) = $$\n",
    "$$ = \\frac{1}{2} \\| w \\|^2 - \\frac{1}{2 \\rho} \\| \\lambda \\|^2 + С \\sum \\limits_{i = 1}^n \\left((B w)_i + e_i - \\frac{1}{\\rho} (C - \\lambda_i)\\right) + \\frac{\\rho}{2} \\sum \\limits_{i = 1}^n \\left(\\frac{1}{\\rho} C \\right)^2 = $$\n",
    "$$ = \\frac{1}{2} \\| w \\|^2 - \\frac{1}{2 \\rho} \\| \\lambda \\|^2 + \\frac{\\rho}{2} \\| \\frac{1}{\\rho} C \\|^2 + C \\sum \\limits_{i = 1}^n s_i$$\n",
    "\n",
    "Таким образом, с учётом, что последний член по определению равен $C p(s)$, получаем нужный вид при $t(w) = B w + e + \\frac{\\lambda}{\\rho}$"
   ]
  },
  {
   "cell_type": "markdown",
   "metadata": {
    "id": "LVe9yWmjLCSc"
   },
   "source": [
    "__д) (2 балла)__ Вычислите градиент $\\nabla \\varphi (w)$ аналитически. Считайте, что в точке оптимума значение $s^* = s^*(w^*) = \\text{Prox}_p^{\\rho^{-1}} (t(w^*))$. Воспользовавшись знанием с предыдущих лекций, покажите, что \n",
    "$$\n",
    "\\left[ \\text{Prox}_p^{\\rho^{-1}}\\left(z \\right) \\right]_i = \\begin{cases} z_i - \\frac{C}{\\rho}, & z_i > \\frac{C}{\\rho},\\\\ 0, & 0 \\leq z_i \\leq \\frac{C}{\\rho}, \\\\ z_i, & z_i < 0. \\end{cases}\n",
    "$$"
   ]
  },
  {
   "cell_type": "markdown",
   "metadata": {
    "id": "wrkUcceuLCSd"
   },
   "source": [
    "__Ваше решение (Markdown)__\n",
    "\n",
    "$\\nabla \\varphi (w) = w + C B^T \\mathbf{1}_n$\n",
    "\n",
    "Покажем, чему равен проксимальный оператор:\n",
    "\n",
    "$$ \\text{Prox}_p^{\\rho^{-1}}\\left(z \\right) = \\arg\\min\\limits_{\\tilde{z} \\in \\mathbb{R}^n} (\\frac{C}{\\rho} \\sum \\limits_{i = 1}^n \\tilde{z_i} + \\frac{1}{2} \\| z - \\tilde{z}\\|^2)$$\n",
    "\n",
    "1) В случае $z_i > \\frac{C}{\\rho}$ снимаем модуль, получаем условие на производную $\\tilde{z_i} = z_i - \\frac{C}{\\rho}$\n",
    "2) В случае $0 \\leq z_i \\leq \\frac{C}{\\rho}$ будет такая же производная, но $\\tilde{z_i}$ ограничено снизу нулём, поэтому получаем 0\n",
    "3) В случае $z_i < 0$ меняем знак при снятии модуля, получаем $\\tilde{z_i} = z_i$\n",
    "\n",
    "Суть в том, что при малых $z$ (случай 2) линейный член больше, чем квадратичный, поэтому мы зануляем точку, чтобы удовлетворить регуляризации. При больших $z$ квадратичный член больше и выгоднее быть ближе к нему, но регуляризация всё равно чуть меняет значение. При отрицательных $z$ (случай 3) регуляризация никак не влияет, потому что оптимальное решение $z = \\tilde{z}$ и так ей удовлетворяет."
   ]
  },
  {
   "cell_type": "markdown",
   "metadata": {
    "id": "msIdLLwaLCSd"
   },
   "source": [
    "__е) (3 балла)__ Напомним основные итерации ADMM на $k$-ой итерации:\n",
    "1. Вычислить новые значения $w^{k + 1}$ и $s^{k + 1}$ при решении задачи минимизации $\\min \\varphi (w)$:\n",
    "$$w^* = \\arg\\min \\varphi (w); \\qquad s^* = s^*(w^*) = \\text{Prox}_p^{\\rho^{-1}} (t(w^*))$$\n",
    "2. Обновить параметр $\\lambda^{k + 1}$ по теории (_покажите это!_):\n",
    "   $$\\lambda^{k + 1} = \\lambda^{k} - \\rho (s - Bw - e).$$ \n",
    "\n",
    "Реализуйте метод ```ADMM``` для решения задачи оптимизации ```hinge_loss```, проверьте сходимости при разных значениях коэффициента $C$. Рассмотрите следующие значения: [1e-10, 1e-8, 1e-6]. Параметр $\\rho$ положите равным 1. Критерием останова будет являться норма градиента функции $\\phi$ в новой точке."
   ]
  },
  {
   "cell_type": "code",
   "execution_count": 6,
   "metadata": {
    "id": "NkDy4JPZLCSd"
   },
   "outputs": [],
   "source": [
    "# Ваше решение (Markdown + Code)\n",
    "import numpy as np\n",
    "from tqdm import tqdm\n",
    "\n",
    "def ADMM(criterion, X, y, w_0, s_0, lambda_0, C, rho, eps, max_iter):\n",
    "\n",
    "    errors = []\n",
    "\n",
    "    w_k = np.copy(w_0)\n",
    "    s_k = np.copy(s_0)\n",
    "    lambda_k = np.copy(lambda_0)\n",
    "\n",
    "    B = -np.diag(y) @ X\n",
    "    \n",
    "    err_x_0 = criterion(w_k, B, C)\n",
    "    errors.append(criterion(w_k, B, C) / err_x_0)\n",
    "    for k in tqdm(range(max_iter)):\n",
    "\n",
    "        # your code\n",
    "        # для нахождения w используем градиентный спуск (взял из 1-го дз)\n",
    "        # параметры max_iter и gamma для него взял наугад\n",
    "        w_k, _ = GradientDescent(grad, criterion_gd, w_k, B, C, 1e-6, 10, gamma=lambda k: 0.1)\n",
    "        s_k = prox(B @ w_k + np.ones_like(s_k) + lambda_k / rho, C, rho)\n",
    "\n",
    "        lambda_k -= rho * (s_k - B @ w_k - np.ones_like(s_k))\n",
    "       \n",
    "        errors.append(criterion(w_k, B, C) / err_x_0)\n",
    "        if errors[-1] < eps:\n",
    "            break\n",
    "            \n",
    "    return w_k, s_k, lambda_k, errors\n",
    "\n",
    "def criterion_admm(w, B, C):   \n",
    "    grad_norm = np.linalg.norm(w + C * np.sum(B, axis=0))**2\n",
    "    return grad_norm\n",
    "\n",
    "def prox(x, C, rho):\n",
    "    x_prox = np.zeros_like(x)\n",
    "    for i in range(len(x_prox)):\n",
    "        if x[i] > C / rho:\n",
    "            x_prox[i] = x[i] - C / rho\n",
    "        elif x[i] < 0:\n",
    "            x_prox[i] = x[i]\n",
    "        # случай, когда между, не описан, т.к. массив и так нулевой\n",
    "    return x_prox"
   ]
  },
  {
   "cell_type": "code",
   "execution_count": 2,
   "metadata": {},
   "outputs": [],
   "source": [
    "def GradientDescent(grad, criterion_gd, x_0, B, C, eps, max_iter, **params):\n",
    "    errors = []\n",
    "\n",
    "    x_k = np.copy(x_0)\n",
    "    err_x_0 = criterion_gd(x_k, B, C)\n",
    "    errors.append(criterion_gd(x_k, B, C) / err_x_0)\n",
    "    for k in range(max_iter):\n",
    "\n",
    "        # your code\n",
    "        x_k = x_k - params['gamma'](k) * grad(x_k, B, C)\n",
    "\n",
    "        errors.append(criterion_gd(x_k, B, C) / err_x_0)\n",
    "        if errors[-1] < eps:\n",
    "            break\n",
    "\n",
    "    return x_k, errors\n",
    "\n",
    "def grad(w, B, C):\n",
    "    return w + C * np.sum(B, axis=0)\n",
    "\n",
    "def criterion_gd(x, B, C):\n",
    "    return np.linalg.norm(grad(x, B, C))**2"
   ]
  },
  {
   "cell_type": "code",
   "execution_count": 8,
   "metadata": {},
   "outputs": [
    {
     "name": "stderr",
     "output_type": "stream",
     "text": [
      " 17%|████████████▏                                                           | 17/100 [00:00<00:01, 71.83it/s]\n",
      " 17%|████████████                                                           | 17/100 [00:00<00:00, 117.62it/s]\n",
      " 17%|████████████                                                           | 17/100 [00:00<00:00, 149.53it/s]\n"
     ]
    },
    {
     "data": {
      "image/png": "[encoded data removed]",
      "text/plain": [
       "<Figure size 800x600 with 1 Axes>"
      ]
     },
     "metadata": {},
     "output_type": "display_data"
    }
   ],
   "source": [
    "dataset = \"mushrooms.txt\" \n",
    "\n",
    "from sklearn.datasets import load_svmlight_file\n",
    "data = load_svmlight_file(dataset)\n",
    "X, y = data[0].toarray(), data[1]\n",
    "\n",
    "#(преобразуйте метки к формату [-1, +1])\n",
    "y = y * 2 - 3\n",
    "\n",
    "from sklearn.model_selection import train_test_split\n",
    "X_train, X_test, y_train, y_test = train_test_split(X, y, test_size=0.2, random_state=57)\n",
    "\n",
    "import matplotlib.pyplot as plt\n",
    "\n",
    "C_values = [1e-10, 1e-8, 1e-6]\n",
    "\n",
    "fig, ax = plt.subplots(1, 1, figsize=(8, 6))\n",
    "\n",
    "for C_ in C_values:\n",
    "    w_ = np.zeros(X_train.shape[1])\n",
    "    s_ = np.zeros(X_train.shape[0])\n",
    "    lambda_ = np.zeros(X_train.shape[0])\n",
    "\n",
    "    w_admm, s_admm, lambda_admm, errors_admm = ADMM(criterion_admm, X_train, y_train, w_, s_, lambda_, C_, 1,\n",
    "                                                    eps=1e-16, max_iter=100)\n",
    "    ax.plot(errors_admm, label=f\"C={C_}\")\n",
    "\n",
    "ax.set_yscale(\"log\")\n",
    "ax.set_xlabel(r\"Номер итерации\")\n",
    "ax.set_ylabel(r\"Логарийм критерия\")\n",
    "ax.set_title(r\"ADMM для разных C\")\n",
    "ax.legend()\n",
    "ax.grid()\n",
    "plt.show()"
   ]
  },
  {
   "cell_type": "markdown",
   "metadata": {},
   "source": [
    " Круто получилось! Жаль, что неправильно"
   ]
  },
  {
   "cell_type": "markdown",
   "metadata": {
    "id": "UIkwaLniem9V"
   },
   "source": [
    "## Дополнительная часть (всего 10 баллов)"
   ]
  },
  {
   "cell_type": "markdown",
   "metadata": {},
   "source": [
    "__а) (3 балла)__ На лекции был использован метод первого порядка в качестве спуска по переменным. Однако, такой метод проигрывает по итеративной сложности методу Ньютона... Но функция-то в нашем случае не дважды диффиренцируема. Значит нужно рассматривать суб-гессиан. Найдите второй суб-дифференциал $\\partial ^2 \\varphi(w)$.\n",
    "\n",
    "(*Указание:* возьмите честно второй раз дифференциал от формулы из пункта __д)__, используя градиент в тех местах, когда это возможно)."
   ]
  },
  {
   "cell_type": "markdown",
   "metadata": {},
   "source": [
    "__Ваше решение (Markdown)__\n",
    "\n",
    "$\\partial ^2 \\varphi(w) = I + ...$\n",
    "\n",
    "В этот момент я окончательно убедился, что всё неправильно"
   ]
  },
  {
   "cell_type": "markdown",
   "metadata": {
    "id": "mVdvEEBQT94f"
   },
   "source": [
    "__б) (7 баллов)__ Запишем теперь [полугладкий метод Ньютона](https://www.polyu.edu.hk/ama/profile/dfsun/A%20QUADRATICALLY%20CONVERGENT%20NEWTON%20METHOD%20FOR_published.pdf) для поиска аргмина. Так как мы не умеем вычислять точно гессиан оптимизируемой функции, то прибегнем к методу сопряженных градиентов для подсчета направления спуска. На $k$-ой итерации:\n",
    "1. Выбрать элемент $V_k \\in \\partial^2 \\varphi(w^k)$.\n",
    "2. Выполнить процедуру сопряженного градиента для поиска аппроксимации решения $d^k$ уравнения\n",
    "$$\n",
    "V_k d^k + \\nabla \\varphi(w^k) = 0.\n",
    "$$\n",
    "3. При помощи линейного поиска, как в методе BFGS находим параметр $\\alpha^k$ и делаем обновление переменной:\n",
    "$$w^{k + 1} = w^k + \\alpha_k d^k.$$\n",
    "\n",
    "Теперь, мы наконец-то готовы все собрать в один метод ADMM. На $k$-ой итерации\n",
    "1. Вычислить новые значения $w^{k + 1}$ используя полугладкий метод Ньютона.\n",
    "2. Обновить $s^{k + 1} = \\text{Prox}_{p}^{\\rho^{-1}} (w^{k + 1})$.\n",
    "3. Обновить параметр $\\lambda^{k + 1}$ по теории.\n",
    "\n",
    "Реализуйте метод ```ADMM_SemiSmoothNewton``` и постройте график зависимости критерия от итерации. Поиграйте со значениями параметров, постройте сравнительные графики."
   ]
  },
  {
   "cell_type": "code",
   "execution_count": null,
   "metadata": {
    "id": "m43WMsPndw8c"
   },
   "outputs": [],
   "source": [
    "# Ваше решение (Code)"
   ]
  },
  {
   "cell_type": "markdown",
   "metadata": {
    "id": "8BZoRB2MZ_3k"
   },
   "source": [
    "# Интересно почитать\n",
    "\n",
    "Казалось бы, метод ADMM выглядит более громоздко, нежели привычные методы оптимизации без ограничений (SGD, NAG, DNM и другие), однако, на практике у него довольно много применений. Если вас заинтересовала возможность узнать больше о практических применения, рекоммендуется к прочтению [статья](https://web.stanford.edu/~boyd/papers/pdf/admm_distr_stats.pdf#page=64.25) от одного из столпов оптимизации Бойда. В ней рассматривается distributed подход (с множеством вычислительных единиц) к использованию метода ADMM при решении выпуклых задач оптимизации в машинном обучении и не только.   "
   ]
  }
 ],
 "metadata": {
  "colab": {
   "provenance": []
  },
  "kaggle": {
   "accelerator": "none",
   "dataSources": [],
   "dockerImageVersionId": 30787,
   "isGpuEnabled": false,
   "isInternetEnabled": true,
   "language": "python",
   "sourceType": "notebook"
  },
  "kernelspec": {
   "display_name": "iitp",
   "language": "python",
   "name": "iitp"
  },
  "language_info": {
   "codemirror_mode": {
    "name": "ipython",
    "version": 3
   },
   "file_extension": ".py",
   "mimetype": "text/x-python",
   "name": "python",
   "nbconvert_exporter": "python",
   "pygments_lexer": "ipython3",
   "version": "3.9.10"
  }
 },
 "nbformat": 4,
 "nbformat_minor": 4
}
